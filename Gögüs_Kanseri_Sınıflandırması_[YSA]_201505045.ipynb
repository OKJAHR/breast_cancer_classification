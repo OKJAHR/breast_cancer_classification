{
  "cells": [
    {
      "cell_type": "markdown",
      "metadata": {
        "id": "view-in-github",
        "colab_type": "text"
      },
      "source": [
        "<a href=\"https://colab.research.google.com/github/OKJAHR/breast_cancer_classification/blob/main/G%C3%B6g%C3%BCs_Kanseri_S%C4%B1n%C4%B1fland%C4%B1rmas%C4%B1_%5BYSA%5D_201505045.ipynb\" target=\"_parent\"><img src=\"https://colab.research.google.com/assets/colab-badge.svg\" alt=\"Open In Colab\"/></a>"
      ]
    },
    {
      "metadata": {
        "_uuid": "6f747b567b4b89f9aaa48e503ddddabf214cb278",
        "_cell_guid": "466b1182-f052-4452-abb5-4fbe3cd92095",
        "trusted": true,
        "collapsed": true,
        "id": "0KJH1uRo_UrW"
      },
      "cell_type": "code",
      "source": [
        "# Kütüphaneleri Çağırdık\n",
        "import pandas as pd\n",
        "import numpy as np\n",
        "import matplotlib.pyplot as plt\n",
        "import seaborn as sns\n",
        "\n",
        "# Verimizi yükleyip çağırdık\n",
        "data = pd.read_csv('/content/Breast.csv')\n",
        "del data['Unnamed: 32']"
      ],
      "execution_count": null,
      "outputs": []
    },
    {
      "metadata": {
        "_uuid": "f6af18d53dcaabb44c49b50c13ba3dafe7bbae10",
        "_cell_guid": "962b3671-f704-438d-bd54-931767e877cf",
        "trusted": true,
        "collapsed": true,
        "id": "ttEUsImB_UrX"
      },
      "cell_type": "code",
      "source": [
        "# Veri ön işleme \n",
        "X = data.iloc[:, 2:].values\n",
        "y = data.iloc[:, 1].values\n",
        "\n",
        "# Kategorik verileri değiştirme\n",
        "from sklearn.preprocessing import LabelEncoder\n",
        "labelencoder_X_1 = LabelEncoder()\n",
        "y = labelencoder_X_1.fit_transform(y)\n",
        "\n",
        "# Veri setini Eğitim seti ve Test seti olarak ayırma\n",
        "from sklearn.model_selection import train_test_split\n",
        "X_train, X_test, y_train, y_test = train_test_split(X, y, test_size = 0.1, random_state = 0)\n",
        "\n",
        "\n",
        "from sklearn.preprocessing import StandardScaler\n",
        "sc = StandardScaler()\n",
        "X_train = sc.fit_transform(X_train)\n",
        "X_test = sc.transform(X_test)"
      ],
      "execution_count": null,
      "outputs": []
    },
    {
      "metadata": {
        "_uuid": "c01850e3c738b8a55146cce28e5f6fe82378032e",
        "_cell_guid": "51ab3d86-d1fd-40b6-a463-012e24a5c0a0",
        "trusted": true,
        "scrolled": false,
        "id": "Eak25kyK_UrY"
      },
      "cell_type": "code",
      "source": [
        "from keras.models import Sequential\n",
        "from keras.layers import Dense\n",
        "from keras.layers import LeakyReLU,PReLU,ELU\n",
        "from keras.layers import Dropout"
      ],
      "execution_count": null,
      "outputs": []
    },
    {
      "metadata": {
        "_uuid": "f07a3637824959ff96269ff3806b994c4f64d117",
        "_cell_guid": "5e19dee2-9602-42c9-bc3b-41d912e0aa1d",
        "trusted": true,
        "collapsed": true,
        "id": "2vF6xK17_UrZ"
      },
      "cell_type": "code",
      "source": [
        "# Yapay Sinir AĞları\n",
        "from tensorflow.keras.layers import BatchNormalization\n",
        "\n",
        "ysa =Sequential()\n",
        "\n",
        "ysa.add(Dense(units = 30,activation = 'relu'))\n",
        "ysa.add(BatchNormalization())\n",
        "ysa.add(Dropout(0.5))\n",
        "\n",
        "ysa.add(Dense(units = 30,activation = 'relu'))\n",
        "ysa.add(BatchNormalization())\n",
        "ysa.add(Dropout(0.5))\n",
        "\n",
        "\n",
        "ysa.add(Dense(units = 1,activation = 'sigmoid'))\n"
      ],
      "execution_count": null,
      "outputs": []
    },
    {
      "cell_type": "code",
      "source": [
        "ysa.compile(optimizer = 'adam', loss = 'binary_crossentropy', metrics = ['accuracy'])\n",
        "\n",
        "\n",
        "from tensorflow.keras.callbacks import EarlyStopping\n",
        "early_stop = EarlyStopping(monitor='val_loss', mode='min', verbose=1, patience=25)\n",
        "\n",
        "\n",
        "model=ysa.fit(X_train, y_train,batch_size = 32, validation_data=(X_test, y_test),epochs =100,callbacks = [early_stop])"
      ],
      "metadata": {
        "colab": {
          "base_uri": "https://localhost:8080/"
        },
        "id": "9fP-lnEdJBNs",
        "outputId": "91c4d624-f68a-48af-d8c4-632c21547e07"
      },
      "execution_count": null,
      "outputs": [
        {
          "output_type": "stream",
          "name": "stdout",
          "text": [
            "Epoch 1/100\n",
            "16/16 [==============================] - 2s 26ms/step - loss: 0.9513 - accuracy: 0.5234 - val_loss: 0.6048 - val_accuracy: 0.7719\n",
            "Epoch 2/100\n",
            "16/16 [==============================] - 0s 7ms/step - loss: 0.6699 - accuracy: 0.6641 - val_loss: 0.4804 - val_accuracy: 0.8421\n",
            "Epoch 3/100\n",
            "16/16 [==============================] - 0s 8ms/step - loss: 0.4897 - accuracy: 0.7773 - val_loss: 0.3944 - val_accuracy: 0.8596\n",
            "Epoch 4/100\n",
            "16/16 [==============================] - 0s 5ms/step - loss: 0.4070 - accuracy: 0.8281 - val_loss: 0.3265 - val_accuracy: 0.8947\n",
            "Epoch 5/100\n",
            "16/16 [==============================] - 0s 4ms/step - loss: 0.3502 - accuracy: 0.8613 - val_loss: 0.2754 - val_accuracy: 0.8947\n",
            "Epoch 6/100\n",
            "16/16 [==============================] - 0s 5ms/step - loss: 0.3479 - accuracy: 0.8711 - val_loss: 0.2355 - val_accuracy: 0.9123\n",
            "Epoch 7/100\n",
            "16/16 [==============================] - 0s 5ms/step - loss: 0.2901 - accuracy: 0.8809 - val_loss: 0.2082 - val_accuracy: 0.9123\n",
            "Epoch 8/100\n",
            "16/16 [==============================] - 0s 5ms/step - loss: 0.2874 - accuracy: 0.8848 - val_loss: 0.1847 - val_accuracy: 0.9123\n",
            "Epoch 9/100\n",
            "16/16 [==============================] - 0s 5ms/step - loss: 0.2434 - accuracy: 0.9121 - val_loss: 0.1692 - val_accuracy: 0.9298\n",
            "Epoch 10/100\n",
            "16/16 [==============================] - 0s 7ms/step - loss: 0.2340 - accuracy: 0.9121 - val_loss: 0.1533 - val_accuracy: 0.9298\n",
            "Epoch 11/100\n",
            "16/16 [==============================] - 0s 4ms/step - loss: 0.2051 - accuracy: 0.9160 - val_loss: 0.1431 - val_accuracy: 0.9474\n",
            "Epoch 12/100\n",
            "16/16 [==============================] - 0s 5ms/step - loss: 0.2113 - accuracy: 0.9238 - val_loss: 0.1339 - val_accuracy: 0.9474\n",
            "Epoch 13/100\n",
            "16/16 [==============================] - 0s 5ms/step - loss: 0.2015 - accuracy: 0.9297 - val_loss: 0.1240 - val_accuracy: 0.9474\n",
            "Epoch 14/100\n",
            "16/16 [==============================] - 0s 6ms/step - loss: 0.1943 - accuracy: 0.9277 - val_loss: 0.1157 - val_accuracy: 0.9474\n",
            "Epoch 15/100\n",
            "16/16 [==============================] - 0s 5ms/step - loss: 0.1925 - accuracy: 0.9336 - val_loss: 0.1095 - val_accuracy: 0.9474\n",
            "Epoch 16/100\n",
            "16/16 [==============================] - 0s 5ms/step - loss: 0.1837 - accuracy: 0.9375 - val_loss: 0.1029 - val_accuracy: 0.9474\n",
            "Epoch 17/100\n",
            "16/16 [==============================] - 0s 5ms/step - loss: 0.1815 - accuracy: 0.9375 - val_loss: 0.0964 - val_accuracy: 0.9825\n",
            "Epoch 18/100\n",
            "16/16 [==============================] - 0s 5ms/step - loss: 0.1880 - accuracy: 0.9316 - val_loss: 0.0913 - val_accuracy: 1.0000\n",
            "Epoch 19/100\n",
            "16/16 [==============================] - 0s 6ms/step - loss: 0.1641 - accuracy: 0.9434 - val_loss: 0.0890 - val_accuracy: 1.0000\n",
            "Epoch 20/100\n",
            "16/16 [==============================] - 0s 5ms/step - loss: 0.1667 - accuracy: 0.9336 - val_loss: 0.0857 - val_accuracy: 1.0000\n",
            "Epoch 21/100\n",
            "16/16 [==============================] - 0s 6ms/step - loss: 0.1588 - accuracy: 0.9355 - val_loss: 0.0816 - val_accuracy: 1.0000\n",
            "Epoch 22/100\n",
            "16/16 [==============================] - 0s 6ms/step - loss: 0.1825 - accuracy: 0.9316 - val_loss: 0.0774 - val_accuracy: 1.0000\n",
            "Epoch 23/100\n",
            "16/16 [==============================] - 0s 5ms/step - loss: 0.1435 - accuracy: 0.9395 - val_loss: 0.0738 - val_accuracy: 1.0000\n",
            "Epoch 24/100\n",
            "16/16 [==============================] - 0s 5ms/step - loss: 0.1529 - accuracy: 0.9492 - val_loss: 0.0714 - val_accuracy: 1.0000\n",
            "Epoch 25/100\n",
            "16/16 [==============================] - 0s 6ms/step - loss: 0.1522 - accuracy: 0.9473 - val_loss: 0.0688 - val_accuracy: 0.9825\n",
            "Epoch 26/100\n",
            "16/16 [==============================] - 0s 9ms/step - loss: 0.1868 - accuracy: 0.9297 - val_loss: 0.0667 - val_accuracy: 0.9825\n",
            "Epoch 27/100\n",
            "16/16 [==============================] - 0s 7ms/step - loss: 0.1148 - accuracy: 0.9570 - val_loss: 0.0648 - val_accuracy: 0.9825\n",
            "Epoch 28/100\n",
            "16/16 [==============================] - 0s 6ms/step - loss: 0.1421 - accuracy: 0.9570 - val_loss: 0.0625 - val_accuracy: 1.0000\n",
            "Epoch 29/100\n",
            "16/16 [==============================] - 0s 6ms/step - loss: 0.1462 - accuracy: 0.9512 - val_loss: 0.0608 - val_accuracy: 0.9825\n",
            "Epoch 30/100\n",
            "16/16 [==============================] - 0s 6ms/step - loss: 0.1685 - accuracy: 0.9395 - val_loss: 0.0591 - val_accuracy: 1.0000\n",
            "Epoch 31/100\n",
            "16/16 [==============================] - 0s 6ms/step - loss: 0.1379 - accuracy: 0.9551 - val_loss: 0.0571 - val_accuracy: 1.0000\n",
            "Epoch 32/100\n",
            "16/16 [==============================] - 0s 7ms/step - loss: 0.1251 - accuracy: 0.9668 - val_loss: 0.0562 - val_accuracy: 0.9825\n",
            "Epoch 33/100\n",
            "16/16 [==============================] - 0s 8ms/step - loss: 0.1131 - accuracy: 0.9531 - val_loss: 0.0547 - val_accuracy: 0.9825\n",
            "Epoch 34/100\n",
            "16/16 [==============================] - 0s 6ms/step - loss: 0.1085 - accuracy: 0.9648 - val_loss: 0.0545 - val_accuracy: 0.9825\n",
            "Epoch 35/100\n",
            "16/16 [==============================] - 0s 6ms/step - loss: 0.1325 - accuracy: 0.9590 - val_loss: 0.0543 - val_accuracy: 0.9825\n",
            "Epoch 36/100\n",
            "16/16 [==============================] - 0s 4ms/step - loss: 0.1344 - accuracy: 0.9531 - val_loss: 0.0536 - val_accuracy: 0.9825\n",
            "Epoch 37/100\n",
            "16/16 [==============================] - 0s 5ms/step - loss: 0.1187 - accuracy: 0.9531 - val_loss: 0.0529 - val_accuracy: 0.9825\n",
            "Epoch 38/100\n",
            "16/16 [==============================] - 0s 5ms/step - loss: 0.1386 - accuracy: 0.9473 - val_loss: 0.0517 - val_accuracy: 0.9825\n",
            "Epoch 39/100\n",
            "16/16 [==============================] - 0s 6ms/step - loss: 0.1218 - accuracy: 0.9492 - val_loss: 0.0505 - val_accuracy: 0.9825\n",
            "Epoch 40/100\n",
            "16/16 [==============================] - 0s 6ms/step - loss: 0.1251 - accuracy: 0.9551 - val_loss: 0.0495 - val_accuracy: 0.9825\n",
            "Epoch 41/100\n",
            "16/16 [==============================] - 0s 6ms/step - loss: 0.1150 - accuracy: 0.9473 - val_loss: 0.0472 - val_accuracy: 0.9825\n",
            "Epoch 42/100\n",
            "16/16 [==============================] - 0s 5ms/step - loss: 0.1085 - accuracy: 0.9668 - val_loss: 0.0465 - val_accuracy: 0.9825\n",
            "Epoch 43/100\n",
            "16/16 [==============================] - 0s 5ms/step - loss: 0.1036 - accuracy: 0.9590 - val_loss: 0.0449 - val_accuracy: 0.9825\n",
            "Epoch 44/100\n",
            "16/16 [==============================] - 0s 6ms/step - loss: 0.1029 - accuracy: 0.9551 - val_loss: 0.0439 - val_accuracy: 0.9825\n",
            "Epoch 45/100\n",
            "16/16 [==============================] - 0s 10ms/step - loss: 0.1142 - accuracy: 0.9668 - val_loss: 0.0432 - val_accuracy: 0.9825\n",
            "Epoch 46/100\n",
            "16/16 [==============================] - 0s 10ms/step - loss: 0.1134 - accuracy: 0.9609 - val_loss: 0.0427 - val_accuracy: 0.9825\n",
            "Epoch 47/100\n",
            "16/16 [==============================] - 0s 10ms/step - loss: 0.1199 - accuracy: 0.9688 - val_loss: 0.0428 - val_accuracy: 0.9825\n",
            "Epoch 48/100\n",
            "16/16 [==============================] - 0s 9ms/step - loss: 0.1043 - accuracy: 0.9648 - val_loss: 0.0418 - val_accuracy: 0.9825\n",
            "Epoch 49/100\n",
            "16/16 [==============================] - 0s 11ms/step - loss: 0.1108 - accuracy: 0.9590 - val_loss: 0.0422 - val_accuracy: 0.9825\n",
            "Epoch 50/100\n",
            "16/16 [==============================] - 0s 10ms/step - loss: 0.1236 - accuracy: 0.9648 - val_loss: 0.0420 - val_accuracy: 0.9825\n",
            "Epoch 51/100\n",
            "16/16 [==============================] - 0s 9ms/step - loss: 0.0935 - accuracy: 0.9707 - val_loss: 0.0423 - val_accuracy: 0.9825\n",
            "Epoch 52/100\n",
            "16/16 [==============================] - 0s 7ms/step - loss: 0.0870 - accuracy: 0.9688 - val_loss: 0.0409 - val_accuracy: 0.9825\n",
            "Epoch 53/100\n",
            "16/16 [==============================] - 0s 8ms/step - loss: 0.1035 - accuracy: 0.9648 - val_loss: 0.0425 - val_accuracy: 0.9825\n",
            "Epoch 54/100\n",
            "16/16 [==============================] - 0s 8ms/step - loss: 0.1198 - accuracy: 0.9609 - val_loss: 0.0446 - val_accuracy: 0.9825\n",
            "Epoch 55/100\n",
            "16/16 [==============================] - 0s 7ms/step - loss: 0.1046 - accuracy: 0.9668 - val_loss: 0.0436 - val_accuracy: 0.9825\n",
            "Epoch 56/100\n",
            "16/16 [==============================] - 0s 8ms/step - loss: 0.1097 - accuracy: 0.9707 - val_loss: 0.0423 - val_accuracy: 0.9825\n",
            "Epoch 57/100\n",
            "16/16 [==============================] - 0s 8ms/step - loss: 0.1330 - accuracy: 0.9473 - val_loss: 0.0401 - val_accuracy: 0.9825\n",
            "Epoch 58/100\n",
            "16/16 [==============================] - 0s 8ms/step - loss: 0.1131 - accuracy: 0.9570 - val_loss: 0.0404 - val_accuracy: 0.9825\n",
            "Epoch 59/100\n",
            "16/16 [==============================] - 0s 7ms/step - loss: 0.1196 - accuracy: 0.9590 - val_loss: 0.0405 - val_accuracy: 0.9825\n",
            "Epoch 60/100\n",
            "16/16 [==============================] - 0s 8ms/step - loss: 0.1001 - accuracy: 0.9629 - val_loss: 0.0412 - val_accuracy: 0.9825\n",
            "Epoch 61/100\n",
            "16/16 [==============================] - 0s 8ms/step - loss: 0.1038 - accuracy: 0.9707 - val_loss: 0.0431 - val_accuracy: 0.9825\n",
            "Epoch 62/100\n",
            "16/16 [==============================] - 0s 8ms/step - loss: 0.1016 - accuracy: 0.9629 - val_loss: 0.0428 - val_accuracy: 0.9825\n",
            "Epoch 63/100\n",
            "16/16 [==============================] - 0s 8ms/step - loss: 0.1274 - accuracy: 0.9570 - val_loss: 0.0423 - val_accuracy: 0.9825\n",
            "Epoch 64/100\n",
            "16/16 [==============================] - 0s 9ms/step - loss: 0.1137 - accuracy: 0.9570 - val_loss: 0.0433 - val_accuracy: 0.9825\n",
            "Epoch 65/100\n",
            "16/16 [==============================] - 0s 8ms/step - loss: 0.1168 - accuracy: 0.9609 - val_loss: 0.0408 - val_accuracy: 0.9825\n",
            "Epoch 66/100\n",
            "16/16 [==============================] - 0s 7ms/step - loss: 0.1196 - accuracy: 0.9512 - val_loss: 0.0410 - val_accuracy: 0.9825\n",
            "Epoch 67/100\n",
            "16/16 [==============================] - 0s 8ms/step - loss: 0.0991 - accuracy: 0.9668 - val_loss: 0.0414 - val_accuracy: 0.9825\n",
            "Epoch 68/100\n",
            "16/16 [==============================] - 0s 8ms/step - loss: 0.1004 - accuracy: 0.9629 - val_loss: 0.0397 - val_accuracy: 0.9825\n",
            "Epoch 69/100\n",
            "16/16 [==============================] - 0s 7ms/step - loss: 0.1206 - accuracy: 0.9551 - val_loss: 0.0384 - val_accuracy: 0.9825\n",
            "Epoch 70/100\n",
            "16/16 [==============================] - 0s 7ms/step - loss: 0.1201 - accuracy: 0.9590 - val_loss: 0.0377 - val_accuracy: 0.9825\n",
            "Epoch 71/100\n",
            "16/16 [==============================] - 0s 8ms/step - loss: 0.0787 - accuracy: 0.9688 - val_loss: 0.0389 - val_accuracy: 0.9825\n",
            "Epoch 72/100\n",
            "16/16 [==============================] - 0s 8ms/step - loss: 0.0957 - accuracy: 0.9668 - val_loss: 0.0375 - val_accuracy: 0.9825\n",
            "Epoch 73/100\n",
            "16/16 [==============================] - 0s 8ms/step - loss: 0.1079 - accuracy: 0.9688 - val_loss: 0.0366 - val_accuracy: 0.9825\n",
            "Epoch 74/100\n",
            "16/16 [==============================] - 0s 9ms/step - loss: 0.1146 - accuracy: 0.9609 - val_loss: 0.0368 - val_accuracy: 0.9825\n",
            "Epoch 75/100\n",
            "16/16 [==============================] - 0s 8ms/step - loss: 0.0883 - accuracy: 0.9746 - val_loss: 0.0360 - val_accuracy: 0.9825\n",
            "Epoch 76/100\n",
            "16/16 [==============================] - 0s 8ms/step - loss: 0.0894 - accuracy: 0.9629 - val_loss: 0.0389 - val_accuracy: 0.9825\n",
            "Epoch 77/100\n",
            "16/16 [==============================] - 0s 7ms/step - loss: 0.1013 - accuracy: 0.9688 - val_loss: 0.0421 - val_accuracy: 0.9825\n",
            "Epoch 78/100\n",
            "16/16 [==============================] - 0s 6ms/step - loss: 0.1065 - accuracy: 0.9668 - val_loss: 0.0430 - val_accuracy: 0.9825\n",
            "Epoch 79/100\n",
            "16/16 [==============================] - 0s 6ms/step - loss: 0.0936 - accuracy: 0.9648 - val_loss: 0.0383 - val_accuracy: 0.9825\n",
            "Epoch 80/100\n",
            "16/16 [==============================] - 0s 5ms/step - loss: 0.0921 - accuracy: 0.9688 - val_loss: 0.0377 - val_accuracy: 0.9825\n",
            "Epoch 81/100\n",
            "16/16 [==============================] - 0s 6ms/step - loss: 0.1009 - accuracy: 0.9590 - val_loss: 0.0365 - val_accuracy: 0.9825\n",
            "Epoch 82/100\n",
            "16/16 [==============================] - 0s 5ms/step - loss: 0.0792 - accuracy: 0.9668 - val_loss: 0.0382 - val_accuracy: 0.9825\n",
            "Epoch 83/100\n",
            "16/16 [==============================] - 0s 7ms/step - loss: 0.0970 - accuracy: 0.9727 - val_loss: 0.0356 - val_accuracy: 0.9825\n",
            "Epoch 84/100\n",
            "16/16 [==============================] - 0s 8ms/step - loss: 0.0837 - accuracy: 0.9707 - val_loss: 0.0364 - val_accuracy: 0.9825\n",
            "Epoch 85/100\n",
            "16/16 [==============================] - 0s 6ms/step - loss: 0.0885 - accuracy: 0.9727 - val_loss: 0.0379 - val_accuracy: 0.9825\n",
            "Epoch 86/100\n",
            "16/16 [==============================] - 0s 8ms/step - loss: 0.0885 - accuracy: 0.9668 - val_loss: 0.0373 - val_accuracy: 0.9825\n",
            "Epoch 87/100\n",
            "16/16 [==============================] - 0s 6ms/step - loss: 0.0738 - accuracy: 0.9727 - val_loss: 0.0377 - val_accuracy: 0.9825\n",
            "Epoch 88/100\n",
            "16/16 [==============================] - 0s 7ms/step - loss: 0.1091 - accuracy: 0.9707 - val_loss: 0.0348 - val_accuracy: 0.9825\n",
            "Epoch 89/100\n",
            "16/16 [==============================] - 0s 6ms/step - loss: 0.1072 - accuracy: 0.9609 - val_loss: 0.0339 - val_accuracy: 0.9825\n",
            "Epoch 90/100\n",
            "16/16 [==============================] - 0s 7ms/step - loss: 0.1395 - accuracy: 0.9570 - val_loss: 0.0343 - val_accuracy: 0.9825\n",
            "Epoch 91/100\n",
            "16/16 [==============================] - 0s 8ms/step - loss: 0.1015 - accuracy: 0.9668 - val_loss: 0.0338 - val_accuracy: 0.9825\n",
            "Epoch 92/100\n",
            "16/16 [==============================] - 0s 7ms/step - loss: 0.0988 - accuracy: 0.9707 - val_loss: 0.0349 - val_accuracy: 0.9825\n",
            "Epoch 93/100\n",
            "16/16 [==============================] - 0s 5ms/step - loss: 0.1165 - accuracy: 0.9609 - val_loss: 0.0357 - val_accuracy: 0.9825\n",
            "Epoch 94/100\n",
            "16/16 [==============================] - 0s 5ms/step - loss: 0.0806 - accuracy: 0.9707 - val_loss: 0.0345 - val_accuracy: 0.9825\n",
            "Epoch 95/100\n",
            "16/16 [==============================] - 0s 5ms/step - loss: 0.1122 - accuracy: 0.9609 - val_loss: 0.0355 - val_accuracy: 0.9825\n",
            "Epoch 96/100\n",
            "16/16 [==============================] - 0s 6ms/step - loss: 0.0669 - accuracy: 0.9824 - val_loss: 0.0339 - val_accuracy: 0.9825\n",
            "Epoch 97/100\n",
            "16/16 [==============================] - 0s 5ms/step - loss: 0.1003 - accuracy: 0.9668 - val_loss: 0.0328 - val_accuracy: 0.9825\n",
            "Epoch 98/100\n",
            "16/16 [==============================] - 0s 5ms/step - loss: 0.0838 - accuracy: 0.9727 - val_loss: 0.0319 - val_accuracy: 0.9825\n",
            "Epoch 99/100\n",
            "16/16 [==============================] - 0s 5ms/step - loss: 0.1593 - accuracy: 0.9453 - val_loss: 0.0327 - val_accuracy: 0.9825\n",
            "Epoch 100/100\n",
            "16/16 [==============================] - 0s 4ms/step - loss: 0.0820 - accuracy: 0.9746 - val_loss: 0.0317 - val_accuracy: 0.9825\n"
          ]
        }
      ]
    },
    {
      "cell_type": "code",
      "source": [
        "ysa.summary()"
      ],
      "metadata": {
        "colab": {
          "base_uri": "https://localhost:8080/"
        },
        "id": "Cv8fxSVeJEU_",
        "outputId": "5aa97494-553a-4b5b-bfcc-f7ea8873f4f0"
      },
      "execution_count": null,
      "outputs": [
        {
          "output_type": "stream",
          "name": "stdout",
          "text": [
            "Model: \"sequential_2\"\n",
            "_________________________________________________________________\n",
            " Layer (type)                Output Shape              Param #   \n",
            "=================================================================\n",
            " dense_7 (Dense)             (None, 30)                930       \n",
            "                                                                 \n",
            " batch_normalization_2 (Batc  (None, 30)               120       \n",
            " hNormalization)                                                 \n",
            "                                                                 \n",
            " dropout_2 (Dropout)         (None, 30)                0         \n",
            "                                                                 \n",
            " dense_8 (Dense)             (None, 30)                930       \n",
            "                                                                 \n",
            " batch_normalization_3 (Batc  (None, 30)               120       \n",
            " hNormalization)                                                 \n",
            "                                                                 \n",
            " dropout_3 (Dropout)         (None, 30)                0         \n",
            "                                                                 \n",
            " dense_9 (Dense)             (None, 1)                 31        \n",
            "                                                                 \n",
            "=================================================================\n",
            "Total params: 2,131\n",
            "Trainable params: 2,011\n",
            "Non-trainable params: 120\n",
            "_________________________________________________________________\n"
          ]
        }
      ]
    },
    {
      "cell_type": "code",
      "source": [
        "history = pd.DataFrame(ysa.history.history)\n",
        "history.plot()"
      ],
      "metadata": {
        "colab": {
          "base_uri": "https://localhost:8080/",
          "height": 447
        },
        "id": "cgph4KlKJJnP",
        "outputId": "c8a94927-53aa-42a0-af10-60586be679bf"
      },
      "execution_count": null,
      "outputs": [
        {
          "output_type": "execute_result",
          "data": {
            "text/plain": [
              "<Axes: >"
            ]
          },
          "metadata": {},
          "execution_count": 38
        },
        {
          "output_type": "display_data",
          "data": {
            "text/plain": [
              "<Figure size 640x480 with 1 Axes>"
            ],
            "image/png": "[encoded data removed]"
          },
          "metadata": {}
        }
      ]
    },
    {
      "cell_type": "code",
      "source": [
        "y_pred = ysa.predict(X_test)\n",
        "#DEğerleri döüştürme\n",
        "y_pred = (y_pred>0.5)"
      ],
      "metadata": {
        "colab": {
          "base_uri": "https://localhost:8080/"
        },
        "id": "DQ7CZegMJHK8",
        "outputId": "133268c5-8e0e-4a8b-d7a2-83db3650e774"
      },
      "execution_count": null,
      "outputs": [
        {
          "output_type": "stream",
          "name": "stdout",
          "text": [
            "2/2 [==============================] - 0s 6ms/step\n"
          ]
        }
      ]
    },
    {
      "cell_type": "code",
      "source": [
        "from sklearn.metrics import classification_report,confusion_matrix\n",
        "print(classification_report(y_test,y_pred))"
      ],
      "metadata": {
        "colab": {
          "base_uri": "https://localhost:8080/"
        },
        "id": "oQ4v0NRdJNPQ",
        "outputId": "888d0695-d5a5-4991-ac94-3184b3d0b0bc"
      },
      "execution_count": null,
      "outputs": [
        {
          "output_type": "stream",
          "name": "stdout",
          "text": [
            "              precision    recall  f1-score   support\n",
            "\n",
            "           0       1.00      0.97      0.99        35\n",
            "           1       0.96      1.00      0.98        22\n",
            "\n",
            "    accuracy                           0.98        57\n",
            "   macro avg       0.98      0.99      0.98        57\n",
            "weighted avg       0.98      0.98      0.98        57\n",
            "\n"
          ]
        }
      ]
    },
    {
      "cell_type": "code",
      "source": [
        "from sklearn.metrics import confusion_matrix\n",
        "from sklearn.metrics import accuracy_score\n",
        "cm = confusion_matrix(y_test,y_pred)\n",
        "score = accuracy_score(y_test,y_pred)\n",
        "print(cm)\n",
        "print('score is:',score)"
      ],
      "metadata": {
        "colab": {
          "base_uri": "https://localhost:8080/"
        },
        "id": "5FfYsavvJPvR",
        "outputId": "453b2bcf-4351-4046-8b90-96d549b6416e"
      },
      "execution_count": null,
      "outputs": [
        {
          "output_type": "stream",
          "name": "stdout",
          "text": [
            "[[34  1]\n",
            " [ 0 22]]\n",
            "score is: 0.9824561403508771\n"
          ]
        }
      ]
    },
    {
      "cell_type": "code",
      "source": [
        "# Kofsyo matrisii oluşturulması\n",
        "plt.figure(figsize=[14,7])\n",
        "sns.heatmap(cm,ysaot=True)\n",
        "plt.show()"
      ],
      "metadata": {
        "colab": {
          "base_uri": "https://localhost:8080/",
          "height": 599
        },
        "id": "6TqqYjDzJTDl",
        "outputId": "311caf4b-914b-4e32-c861-ef6658bee54f"
      },
      "execution_count": null,
      "outputs": [
        {
          "output_type": "display_data",
          "data": {
            "text/plain": [
              "<Figure size 1400x700 with 2 Axes>"
            ],
            "image/png": "[encoded data removed]"
          },
          "metadata": {}
        }
      ]
    }
  ],
  "metadata": {
    "language_info": {
      "name": "python",
      "version": "3.6.4",
      "mimetype": "text/x-python",
      "codemirror_mode": {
        "name": "ipython",
        "version": 3
      },
      "pygments_lexer": "ipython3",
      "nbconvert_exporter": "python",
      "file_extension": ".py"
    },
    "kernelspec": {
      "display_name": "Python 3",
      "language": "python",
      "name": "python3"
    },
    "colab": {
      "provenance": [],
      "include_colab_link": true
    }
  },
  "nbformat": 4,
  "nbformat_minor": 0
}